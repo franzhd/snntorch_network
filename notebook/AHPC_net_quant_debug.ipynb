{
 "cells": [
  {
   "cell_type": "code",
   "execution_count": 1,
   "metadata": {},
   "outputs": [],
   "source": [
    "import numpy as np\n",
    "import torch\n",
    "import torch.nn as nn\n",
    "import snntorch as snn\n",
    "from snntorch import utils\n",
    "from snntorch import surrogate\n",
    "import torch.nn.functional as F\n",
    "from snntorch import functional as SF\n",
    "import brevitas.nn as qnn \n",
    "from tqdm import tqdm\n",
    "from pathlib import Path\n",
    "\n",
    "import sys\n",
    "sys.path.append('../src')\n",
    "from networks_debug_state_quant import *\n",
    "from dataloader import WisdmDatasetParser, WisdmDataset\n",
    "from torch.utils.data import  DataLoader\n",
    "from assistant import Assistant\n",
    "from stats import LearningStats\n",
    "from utils import *"
   ]
  },
  {
   "cell_type": "code",
   "execution_count": 2,
   "metadata": {},
   "outputs": [
    {
     "name": "stdout",
     "output_type": "stream",
     "text": [
      "Using device cuda\n"
     ]
    }
   ],
   "source": [
    "\n",
    "#device = torch.device(\"cuda\") if torch.cuda.is_available() else torch.device(\"mps\") if torch.backends.mps.is_available() else torch.device(\"cpu\")\n",
    "device = 'cuda'\n",
    "print(f'Using device {device}')"
   ]
  },
  {
   "cell_type": "code",
   "execution_count": 3,
   "metadata": {},
   "outputs": [],
   "source": [
    "batch_size = 512\n",
    "slope = 10\n",
    "# network parameters\n",
    "num_inputs = 6 \n",
    "num_steps = 40\n",
    "net_hidden_1 = 180\n",
    "net_hidden_2 = 400\n",
    "net_hidden_3 = 128\n",
    "num_outputs = 7\n",
    "pop_outputs = num_outputs * 10\n",
    "num_epochs = 200\n",
    "vth_in = 1.0\n",
    "vth_out = 1.0\n",
    "vth_recurrent = 1.0\n",
    "vth_enc_value =  1.0\n",
    "vth_std =  65 \n",
    "beta_in = 0.5\n",
    "beta_recurrent = 0.5\n",
    "beta_back = 0.6\n",
    "beta_out = 0.5\n",
    "encoder_dim = 25\n",
    "beta_std = 55\n",
    "lr = 0.002\n",
    "drop_recurrent =0.15\n",
    "drop_back = 0.15\n",
    "drop_out = 0.15\n",
    "# spiking neuron parameters\n",
    "beta = 0.8  # neuron decay rate\n"
   ]
  },
  {
   "cell_type": "code",
   "execution_count": 4,
   "metadata": {},
   "outputs": [],
   "source": [
    "DATASET_NAME = 'data_watch_subset_0_40.npz'\n",
    "DATASET_SUBSET = 'custom'\n",
    "SUBSET_LIST = [0, 4, 6, 8, 9, 10, 14]\n",
    "PATIENCE = 12\n",
    "TRAIN_FOLDER_NAME = 'Trained'\n",
    "NUM_WORKERS = 8\n",
    "NET_OUTPUT_DIM = 7\n",
    "NET_INPUT_DIM = 6\n",
    "NUM_EPOCHS = 200\n",
    "SEARCH_SPACE_SHUFFLE = 200"
   ]
  },
  {
   "cell_type": "code",
   "execution_count": 5,
   "metadata": {},
   "outputs": [
    {
     "name": "stdout",
     "output_type": "stream",
     "text": [
      "(6,)\n",
      "(6,)\n",
      "ytrain shape (55404, 18)\n",
      "yval shape (18468, 18)\n",
      "ytest shape (18469, 18)\n",
      "num classes train dataset: 7 occurrences of each class:[3127 3044 3102 3047 3150 3087 2973]\n",
      "num classes eval dataset: 7 occurrences of each class:[1035 1048 1122  996 1110 1053 1007]\n",
      "num classes test dataset: 7 occurrences of each class:[1046 1048 1046 1036 1076 1026  982]\n",
      "Using device cuda\n"
     ]
    },
    {
     "name": "stderr",
     "output_type": "stream",
     "text": [
      "/home/franzhd/miniconda3/envs/snn_torch/lib/python3.10/site-packages/brevitas/nn/mixin/base.py:77: UserWarning: Keyword arguments are being passed but they not being used.\n",
      "  warn('Keyword arguments are being passed but they not being used.')\n",
      "  0%|          | 0/15 [00:00<?, ?it/s]/home/franzhd/miniconda3/envs/snn_torch/lib/python3.10/site-packages/torch/_tensor.py:1413: UserWarning: Named tensors and all their associated APIs are an experimental feature and subject to change. Please do not use them for anything important until they are released as stable. (Triggered internally at ../c10/core/TensorImpl.h:1925.)\n",
      "  return super().rename(names)\n",
      " Validation: loss =     0.44316                          accuracy = 0.88862 : 100%|██████████| 15/15 [00:05<00:00,  2.92it/s]\n"
     ]
    },
    {
     "data": {
      "image/png": "[encoded data removed]",
      "text/plain": [
       "<Figure size 500x400 with 1 Axes>"
      ]
     },
     "metadata": {},
     "output_type": "display_data"
    },
    {
     "data": {
      "image/png": "[encoded data removed]",
      "text/plain": [
       "<Figure size 640x480 with 1 Axes>"
      ]
     },
     "metadata": {},
     "output_type": "display_data"
    }
   ],
   "source": [
    "trained_folder = TRAIN_FOLDER_NAME\n",
    "os.makedirs(trained_folder, exist_ok=True)\n",
    "dataset = WisdmDatasetParser(f'{Path.home()}/snntorch_network/data/{DATASET_NAME}', norm=None, class_sublset=DATASET_SUBSET, subset_list=SUBSET_LIST)\n",
    "val_set = dataset.get_validation_set()\n",
    "\n",
    "val_dataset = WisdmDataset(val_set)\n",
    "\n",
    "val_loader  = DataLoader(dataset= val_dataset, batch_size=int(batch_size), shuffle=True, num_workers=NUM_WORKERS)\n",
    "\n",
    "device = torch.device(\"cuda\") if torch.cuda.is_available() else torch.device(\"mps\") if torch.backends.mps.is_available() else torch.device(\"cpu\")\n",
    "print(f'Using device {device}')\n",
    "\n",
    "grad = surrogate.fast_sigmoid(slope) #use slope for HPO\n",
    "\n",
    "net_loss = regularization_loss(0.1, 0.03, 40)\n",
    "\n",
    "net = QuantAhpcNetwork(NET_INPUT_DIM, int(net_hidden_1), int(net_hidden_2), NET_OUTPUT_DIM, grad,vth_back=1.0,\n",
    "                    vth_in=vth_in, vth_recurrent=vth_recurrent, vth_out=vth_out,\n",
    "                    beta_in=beta_in, beta_recurrent=beta_recurrent, beta_back=beta_back, beta_out=beta_out,\n",
    "                    # encoder_dim=int(encoder_dim),\n",
    "                    # vth_enc_value=vth_enc_value, vth_std=vth_std, beta_std=beta_std,\n",
    "                    drop_recurrent=drop_recurrent, drop_back=drop_back, drop_out=drop_out,\n",
    "                    time_dim=2, layer_loss=net_loss).to(device)\n",
    "\n",
    "net.from_npz(f'/home/franzhd/snntorch_network/notebook/Trained/network_best.npz')\n",
    "net.to(device)\n",
    "optimizer = torch.optim.Adam(net.parameters(), lr=lr, betas=(0.9, 0.999))\n",
    "scheduler = torch.optim.lr_scheduler.CosineAnnealingLR(optimizer, \n",
    "    T_max=4690, \n",
    "    eta_min=0, \n",
    "    last_epoch=-1\n",
    ")\n",
    "\n",
    "loss_fn = SF.loss.ce_count_loss()\n",
    "\n",
    "stats = LearningStats()\n",
    "assistant = Assistant(net, loss_fn, optimizer, stats, classifier=True, scheduler=scheduler, lam=1.0)\n",
    "\n",
    "\n",
    "labels = []\n",
    "outputs = []\n",
    "\n",
    "tqdm_dataloader = tqdm(val_loader)\n",
    "for _, batch in enumerate(tqdm_dataloader): #eval loop\n",
    "    input, label = batch\n",
    "    output = assistant.valid(input, label)\n",
    "    tqdm_dataloader.set_description(f'\\r Validation: {stats.validation}')\n",
    "\n",
    "    if len(outputs) == 0:\n",
    "        outputs = output.to('cpu').detach()\n",
    "        labels = label.to('cpu').detach()\n",
    "    else:\n",
    "        outputs = torch.cat((outputs, output.to('cpu').detach()), dim=1)\n",
    "        labels = torch.cat((labels, label.to('cpu').detach()))\n",
    "\n",
    "stats.update()\n",
    "\n",
    "if stats.testing.best_accuracy:\n",
    "    count = 0\n",
    "    _, predictions = outputs.sum(dim=0).max(1)\n",
    "    gen_confusion_matrix(predictions,labels, f'./{trained_folder}/')\n",
    "    net.save_to_npz(f'./{trained_folder}/network_best.npz')\n",
    "    stats.save( f'./{trained_folder}/')\n",
    "    stats.plot(path=f'./{trained_folder}/')\n",
    "    del predictions\n",
    "del labels\n",
    "del outputs\n",
    "\n",
    "torch.cuda.empty_cache()\n",
    "\n",
    "\n",
    "    \n",
    "\n",
    "    \n",
    "\n"
   ]
  },
  {
   "cell_type": "code",
   "execution_count": 6,
   "metadata": {},
   "outputs": [
    {
     "name": "stdout",
     "output_type": "stream",
     "text": [
      "Parameter containing:\n",
      "tensor([[ 0.0132, -0.0079,  0.0223, -0.4752,  0.2323, -0.2304],\n",
      "        [-0.1084,  0.1392, -0.0243, -0.2904,  0.5509, -0.4138],\n",
      "        [-0.0870, -0.0573,  0.0354,  0.0067,  0.0243, -0.0159],\n",
      "        ...,\n",
      "        [ 0.0647,  0.0198,  0.1083,  0.1642,  0.0785,  0.0120],\n",
      "        [-0.0881,  0.2871, -0.0733,  0.0864,  0.2708, -0.4105],\n",
      "        [-0.0279,  0.1254, -0.1124, -0.3115,  0.3031,  0.2353]],\n",
      "       device='cuda:0', requires_grad=True)\n",
      "tensor(0.0078, device='cuda:0', grad_fn=<DivBackward0>)\n",
      "tensor(0., device='cuda:0')\n"
     ]
    }
   ],
   "source": [
    "print(net.linear1.weight)\n",
    "print(net.linear1.quant_weight_scale()) \n",
    "print(net.linear1.quant_weight_zero_point())"
   ]
  },
  {
   "cell_type": "code",
   "execution_count": 7,
   "metadata": {},
   "outputs": [
    {
     "name": "stdout",
     "output_type": "stream",
     "text": [
      "QuantLinear(\n",
      "  in_features=180, out_features=400, bias=False\n",
      "  (input_quant): ActQuantProxyFromInjector(\n",
      "    (_zero_hw_sentinel): StatelessBuffer()\n",
      "  )\n",
      "  (output_quant): ActQuantProxyFromInjector(\n",
      "    (_zero_hw_sentinel): StatelessBuffer()\n",
      "  )\n",
      "  (weight_quant): WeightQuantProxyFromInjector(\n",
      "    (_zero_hw_sentinel): StatelessBuffer()\n",
      "    (tensor_quant): RescalingIntQuant(\n",
      "      (int_quant): IntQuant(\n",
      "        (float_to_int_impl): RoundSte()\n",
      "        (tensor_clamp_impl): TensorClampSte()\n",
      "        (delay_wrapper): DelayWrapper(\n",
      "          (delay_impl): _NoDelay()\n",
      "        )\n",
      "      )\n",
      "      (scaling_impl): StatsFromParameterScaling(\n",
      "        (parameter_list_stats): _ParameterListStats(\n",
      "          (first_tracked_param): _ViewParameterWrapper(\n",
      "            (view_shape_impl): OverTensorView()\n",
      "          )\n",
      "          (extra_tracked_params_list): ModuleList(\n",
      "            (0-3): 4 x _ViewCatParameterWrapper(\n",
      "              (view_shape_impl): OverTensorView()\n",
      "            )\n",
      "          )\n",
      "          (stats): _Stats(\n",
      "            (stats_impl): AbsMax()\n",
      "          )\n",
      "        )\n",
      "        (stats_scaling_impl): _StatsScaling(\n",
      "          (affine_rescaling): Identity()\n",
      "          (restrict_clamp_scaling): _RestrictClampValue(\n",
      "            (clamp_min_ste): ScalarClampMinSte()\n",
      "            (restrict_value_impl): PowerOfTwoRestrictValue(\n",
      "              (float_to_int_impl): CeilSte()\n",
      "              (power_of_two): PowerOfTwo()\n",
      "            )\n",
      "          )\n",
      "          (restrict_scaling_pre): LogTwo()\n",
      "        )\n",
      "      )\n",
      "      (int_scaling_impl): PowerOfTwoIntScaling()\n",
      "      (zero_point_impl): ZeroZeroPoint(\n",
      "        (zero_point): StatelessBuffer()\n",
      "      )\n",
      "      (msb_clamp_bit_width_impl): BitWidthConst(\n",
      "        (bit_width): StatelessBuffer()\n",
      "      )\n",
      "    )\n",
      "  )\n",
      "  (bias_quant): BiasQuantProxyFromInjector(\n",
      "    (_zero_hw_sentinel): StatelessBuffer()\n",
      "  )\n",
      ")\n"
     ]
    }
   ],
   "source": [
    "print(net.linear2)"
   ]
  },
  {
   "cell_type": "code",
   "execution_count": 8,
   "metadata": {},
   "outputs": [
    {
     "name": "stdout",
     "output_type": "stream",
     "text": [
      "tensor(0.0078, device='cuda:0', grad_fn=<DivBackward0>)\n",
      "tensor(0., device='cuda:0')\n"
     ]
    }
   ],
   "source": [
    "net.linear2.weight\n",
    "print(net.linear2.quant_weight_scale()) \n",
    "print(net.linear2.quant_weight_zero_point())"
   ]
  },
  {
   "cell_type": "code",
   "execution_count": 9,
   "metadata": {},
   "outputs": [
    {
     "name": "stdout",
     "output_type": "stream",
     "text": [
      "tensor(0.0078, device='cuda:0', grad_fn=<DivBackward0>)\n",
      "tensor(0., device='cuda:0')\n"
     ]
    }
   ],
   "source": [
    "net.linear3.weight\n",
    "print(net.linear2.quant_weight_scale()) \n",
    "print(net.linear2.quant_weight_zero_point())"
   ]
  },
  {
   "cell_type": "code",
   "execution_count": 10,
   "metadata": {},
   "outputs": [
    {
     "data": {
      "text/plain": [
       "Parameter containing:\n",
       "tensor(1.0030, device='cuda:0', requires_grad=True)"
      ]
     },
     "execution_count": 10,
     "metadata": {},
     "output_type": "execute_result"
    }
   ],
   "source": [
    "net.leaky2.beta"
   ]
  },
  {
   "cell_type": "code",
   "execution_count": 11,
   "metadata": {},
   "outputs": [],
   "source": [
    "net.save_to_npz(f'./network_best__try.npz')"
   ]
  },
  {
   "cell_type": "code",
   "execution_count": 12,
   "metadata": {},
   "outputs": [
    {
     "data": {
      "text/plain": [
       "Parameter containing:\n",
       "tensor([[ 0.1818, -0.0335,  0.0780,  ..., -0.0596,  0.0562,  0.0154],\n",
       "        [ 0.1048, -0.0743, -0.0368,  ..., -0.0056,  0.0305,  0.0259],\n",
       "        [ 0.0503, -0.0881, -0.0428,  ...,  0.0252, -0.0054, -0.0085],\n",
       "        ...,\n",
       "        [-0.0187,  0.0204,  0.1132,  ...,  0.0983,  0.0498, -0.2302],\n",
       "        [ 0.1882,  0.0733, -0.0227,  ...,  0.0163, -0.1002, -0.0727],\n",
       "        [ 0.2003, -0.0869, -0.0701,  ..., -0.0766, -0.1098, -0.2261]],\n",
       "       device='cuda:0', requires_grad=True)"
      ]
     },
     "execution_count": 12,
     "metadata": {},
     "output_type": "execute_result"
    }
   ],
   "source": [
    "net.linear2.weight"
   ]
  },
  {
   "cell_type": "code",
   "execution_count": 13,
   "metadata": {},
   "outputs": [
    {
     "data": {
      "text/plain": [
       "tensor([[ 0.1797, -0.0312,  0.0781,  ..., -0.0625,  0.0547,  0.0156],\n",
       "        [ 0.1016, -0.0781, -0.0391,  ..., -0.0078,  0.0312,  0.0234],\n",
       "        [ 0.0469, -0.0859, -0.0391,  ...,  0.0234, -0.0078, -0.0078],\n",
       "        ...,\n",
       "        [-0.0156,  0.0234,  0.1094,  ...,  0.1016,  0.0469, -0.2266],\n",
       "        [ 0.1875,  0.0703, -0.0234,  ...,  0.0156, -0.1016, -0.0703],\n",
       "        [ 0.2031, -0.0859, -0.0703,  ..., -0.0781, -0.1094, -0.2266]],\n",
       "       device='cuda:0', grad_fn=<MulBackward0>)"
      ]
     },
     "execution_count": 13,
     "metadata": {},
     "output_type": "execute_result"
    }
   ],
   "source": [
    "net.linear2.quant_weight().value"
   ]
  },
  {
   "cell_type": "code",
   "execution_count": 14,
   "metadata": {},
   "outputs": [
    {
     "data": {
      "text/plain": [
       "tensor([[ 23,  -4,  10,  ...,  -8,   7,   2],\n",
       "        [ 13, -10,  -5,  ...,  -1,   4,   3],\n",
       "        [  6, -11,  -5,  ...,   3,  -1,  -1],\n",
       "        ...,\n",
       "        [ -2,   3,  14,  ...,  13,   6, -29],\n",
       "        [ 24,   9,  -3,  ...,   2, -13,  -9],\n",
       "        [ 26, -11,  -9,  ..., -10, -14, -29]], device='cuda:0',\n",
       "       dtype=torch.int8)"
      ]
     },
     "execution_count": 14,
     "metadata": {},
     "output_type": "execute_result"
    }
   ],
   "source": [
    "net.linear2.quant_weight().int()"
   ]
  },
  {
   "cell_type": "code",
   "execution_count": 15,
   "metadata": {},
   "outputs": [],
   "source": [
    "data = np.load('/home/franzhd/snntorch_network/notebook/Trained_8w_16nin_conn_no_quant/network_best.npz',allow_pickle=True)"
   ]
  },
  {
   "cell_type": "code",
   "execution_count": 16,
   "metadata": {},
   "outputs": [
    {
     "data": {
      "text/plain": [
       "array([[ 0.16240995, -0.04179355,  0.06878687, ..., -0.03414095,\n",
       "         0.05271974,  0.00918714],\n",
       "       [ 0.10307566, -0.07147186, -0.05367557, ..., -0.00154172,\n",
       "         0.03857527,  0.05272523],\n",
       "       [ 0.03487174, -0.08060344, -0.01848942, ...,  0.00430326,\n",
       "         0.00245528, -0.01670955],\n",
       "       ...,\n",
       "       [-0.02340762,  0.01425165,  0.10983979, ...,  0.09689173,\n",
       "         0.04553557, -0.2277817 ],\n",
       "       [ 0.17257555,  0.06831864, -0.00309846, ...,  0.0208085 ,\n",
       "        -0.10702667, -0.08435933],\n",
       "       [ 0.20949893, -0.08360168, -0.05373604, ..., -0.05224388,\n",
       "        -0.1117976 , -0.21755782]], dtype=float32)"
      ]
     },
     "execution_count": 16,
     "metadata": {},
     "output_type": "execute_result"
    }
   ],
   "source": [
    "data['linear2']"
   ]
  },
  {
   "cell_type": "code",
   "execution_count": 17,
   "metadata": {},
   "outputs": [
    {
     "data": {
      "text/plain": [
       "array([[ 0.1640625, -0.0390625,  0.0703125, ..., -0.03125  ,  0.0546875,\n",
       "         0.0078125],\n",
       "       [ 0.1015625, -0.0703125, -0.0546875, ..., -0.       ,  0.0390625,\n",
       "         0.0546875],\n",
       "       [ 0.03125  , -0.078125 , -0.015625 , ...,  0.0078125,  0.       ,\n",
       "        -0.015625 ],\n",
       "       ...,\n",
       "       [-0.0234375,  0.015625 ,  0.109375 , ...,  0.09375  ,  0.046875 ,\n",
       "        -0.2265625],\n",
       "       [ 0.171875 ,  0.0703125, -0.       , ...,  0.0234375, -0.109375 ,\n",
       "        -0.0859375],\n",
       "       [ 0.2109375, -0.0859375, -0.0546875, ..., -0.0546875, -0.109375 ,\n",
       "        -0.21875  ]], dtype=float32)"
      ]
     },
     "execution_count": 17,
     "metadata": {},
     "output_type": "execute_result"
    }
   ],
   "source": [
    "data['linear2_quant']"
   ]
  }
 ],
 "metadata": {
  "kernelspec": {
   "display_name": "snn_torch",
   "language": "python",
   "name": "python3"
  },
  "language_info": {
   "codemirror_mode": {
    "name": "ipython",
    "version": 3
   },
   "file_extension": ".py",
   "mimetype": "text/x-python",
   "name": "python",
   "nbconvert_exporter": "python",
   "pygments_lexer": "ipython3",
   "version": "3.10.12"
  }
 },
 "nbformat": 4,
 "nbformat_minor": 2
}
