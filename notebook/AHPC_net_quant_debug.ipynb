{
 "cells": [
  {
   "cell_type": "code",
   "execution_count": 1,
   "metadata": {},
   "outputs": [],
   "source": [
    "import numpy as np\n",
    "import torch\n",
    "import torch.nn as nn\n",
    "import snntorch as snn\n",
    "from snntorch import utils\n",
    "from snntorch import surrogate\n",
    "import torch.nn.functional as F\n",
    "from snntorch import functional as SF\n",
    "import brevitas.nn as qnn \n",
    "from tqdm import tqdm\n",
    "from pathlib import Path\n",
    "\n",
    "import sys\n",
    "sys.path.append('../src')\n",
    "from my_network_state_quant import *\n",
    "from dataloader import WisdmDatasetParser, WisdmDataset\n",
    "from torch.utils.data import  DataLoader\n",
    "from assistant import Assistant\n",
    "from stats import LearningStats\n",
    "from utils import *"
   ]
  },
  {
   "cell_type": "code",
   "execution_count": 2,
   "metadata": {},
   "outputs": [
    {
     "name": "stdout",
     "output_type": "stream",
     "text": [
      "Using device cuda\n"
     ]
    }
   ],
   "source": [
    "\n",
    "#device = torch.device(\"cuda\") if torch.cuda.is_available() else torch.device(\"mps\") if torch.backends.mps.is_available() else torch.device(\"cpu\")\n",
    "device = 'cuda'\n",
    "print(f'Using device {device}')"
   ]
  },
  {
   "cell_type": "code",
   "execution_count": 3,
   "metadata": {},
   "outputs": [],
   "source": [
    "batch_size = 512\n",
    "slope = 10\n",
    "# network parameters\n",
    "num_inputs = 6 \n",
    "num_steps = 40\n",
    "net_hidden_1 = 180\n",
    "net_hidden_2 = 400\n",
    "net_hidden_3 = 128\n",
    "num_outputs = 7\n",
    "pop_outputs = num_outputs * 10\n",
    "num_epochs = 200\n",
    "vth_in = 1.0\n",
    "vth_out = 1.0\n",
    "vth_recurrent = 1.0\n",
    "vth_enc_value =  1.0\n",
    "vth_std =  65 \n",
    "beta_in = 0.5\n",
    "beta_recurrent = 0.5\n",
    "beta_back = 0.6\n",
    "beta_out = 0.5\n",
    "encoder_dim = 25\n",
    "beta_std = 55\n",
    "lr = 0.002\n",
    "drop_recurrent =0.15\n",
    "drop_back = 0.15\n",
    "drop_out = 0.15\n",
    "# spiking neuron parameters\n",
    "beta = 0.8  # neuron decay rate\n"
   ]
  },
  {
   "cell_type": "code",
   "execution_count": 4,
   "metadata": {},
   "outputs": [],
   "source": [
    "DATASET_NAME = 'data_watch_subset_0_40.npz'\n",
    "DATASET_SUBSET = 'custom'\n",
    "SUBSET_LIST = [0, 4, 6, 8, 9, 10, 14]\n",
    "PATIENCE = 12\n",
    "TRAIN_FOLDER_NAME = 'Trained'\n",
    "NUM_WORKERS = 8\n",
    "NET_OUTPUT_DIM = 7\n",
    "NET_INPUT_DIM = 6\n",
    "NUM_EPOCHS = 200\n",
    "SEARCH_SPACE_SHUFFLE = 200"
   ]
  },
  {
   "cell_type": "code",
   "execution_count": 5,
   "metadata": {},
   "outputs": [
    {
     "name": "stdout",
     "output_type": "stream",
     "text": [
      "(6,)\n",
      "(6,)\n",
      "ytrain shape (55404, 18)\n",
      "yval shape (18468, 18)\n",
      "ytest shape (18469, 18)\n",
      "num classes train dataset: 7 occurrences of each class:[3127 3044 3102 3047 3150 3087 2973]\n",
      "num classes eval dataset: 7 occurrences of each class:[1035 1048 1122  996 1110 1053 1007]\n",
      "num classes test dataset: 7 occurrences of each class:[1046 1048 1046 1036 1076 1026  982]\n",
      "Using device cuda\n"
     ]
    },
    {
     "name": "stderr",
     "output_type": "stream",
     "text": [
      "/home/franzhd/miniconda3/envs/snn_torch/lib/python3.10/site-packages/brevitas/nn/mixin/base.py:77: UserWarning: Keyword arguments are being passed but they not being used.\n",
      "  warn('Keyword arguments are being passed but they not being used.')\n",
      "  0%|          | 0/15 [00:00<?, ?it/s]/home/franzhd/miniconda3/envs/snn_torch/lib/python3.10/site-packages/torch/_tensor.py:1488: UserWarning: Named tensors and all their associated APIs are an experimental feature and subject to change. Please do not use them for anything important until they are released as stable. (Triggered internally at ../c10/core/TensorImpl.h:1928.)\n",
      "  return super().rename(names)\n",
      "/home/franzhd/miniconda3/envs/snn_torch/lib/python3.10/site-packages/snntorch/_neurons/neurons.py:399: UserWarning: Defining your `__torch_function__` as a plain method is deprecated and will be an error in future, please define it as a classmethod. (Triggered internally at ../torch/csrc/utils/python_arg_parser.cpp:311.)\n",
      "  arg = torch.zeros_like(input_, requires_grad=True)\n",
      " Validation: loss =     0.20081                          accuracy = 0.94275 : 100%|██████████| 15/15 [00:05<00:00,  2.79it/s]\n"
     ]
    },
    {
     "data": {
      "image/png": "[encoded data removed]",
      "text/plain": [
       "<Figure size 500x400 with 1 Axes>"
      ]
     },
     "metadata": {},
     "output_type": "display_data"
    },
    {
     "data": {
      "image/png": "[encoded data removed]",
      "text/plain": [
       "<Figure size 640x480 with 1 Axes>"
      ]
     },
     "metadata": {},
     "output_type": "display_data"
    }
   ],
   "source": [
    "trained_folder = TRAIN_FOLDER_NAME\n",
    "os.makedirs(trained_folder, exist_ok=True)\n",
    "dataset = WisdmDatasetParser(f'{Path.home()}/snntorch_network/data/{DATASET_NAME}', norm=None, class_sublset=DATASET_SUBSET, subset_list=SUBSET_LIST)\n",
    "val_set = dataset.get_validation_set()\n",
    "\n",
    "val_dataset = WisdmDataset(val_set)\n",
    "\n",
    "val_loader  = DataLoader(dataset= val_dataset, batch_size=int(batch_size), shuffle=True, num_workers=NUM_WORKERS)\n",
    "\n",
    "device = torch.device(\"cuda\") if torch.cuda.is_available() else torch.device(\"mps\") if torch.backends.mps.is_available() else torch.device(\"cpu\")\n",
    "print(f'Using device {device}')\n",
    "\n",
    "grad = surrogate.fast_sigmoid(slope) #use slope for HPO\n",
    "\n",
    "net_loss = regularization_loss(0.1, 0.03, 40)\n",
    "\n",
    "net = ExInbitoryNetwork(NET_INPUT_DIM, int(net_hidden_1), int(net_hidden_2), NET_OUTPUT_DIM, grad,vth_back=1.0,\n",
    "                    vth_in=vth_in, vth_recurrent=vth_recurrent, vth_out=vth_out,\n",
    "                    beta_in=beta_in, beta_recurrent=beta_recurrent, beta_back=beta_back, beta_out=beta_out,\n",
    "                    # encoder_dim=int(encoder_dim),\n",
    "                    # vth_enc_value=vth_enc_value, vth_std=vth_std, beta_std=beta_std,\n",
    "                    drop_recurrent=drop_recurrent, drop_back=drop_back, drop_out=drop_out,\n",
    "                    time_dim=2, layer_loss=net_loss).to(device)\n",
    "\n",
    "net.from_npz(f'/home/franzhd/snntorch_network/notebook/Trained/network_best.npz')\n",
    "net.to(device)\n",
    "optimizer = torch.optim.Adam(net.parameters(), lr=lr, betas=(0.9, 0.999))\n",
    "scheduler = torch.optim.lr_scheduler.CosineAnnealingLR(optimizer, \n",
    "    T_max=4690, \n",
    "    eta_min=0, \n",
    "    last_epoch=-1\n",
    ")\n",
    "\n",
    "loss_fn = SF.loss.ce_count_loss()\n",
    "\n",
    "stats = LearningStats()\n",
    "assistant = Assistant(net, loss_fn, optimizer, stats, classifier=True, scheduler=scheduler, lam=1.0)\n",
    "\n",
    "\n",
    "labels = []\n",
    "outputs = []\n",
    "\n",
    "tqdm_dataloader = tqdm(val_loader)\n",
    "for _, batch in enumerate(tqdm_dataloader): #eval loop\n",
    "    input, label = batch\n",
    "    output = assistant.valid(input, label)\n",
    "    tqdm_dataloader.set_description(f'\\r Validation: {stats.validation}')\n",
    "\n",
    "    if len(outputs) == 0:\n",
    "        outputs = output.to('cpu').detach()\n",
    "        labels = label.to('cpu').detach()\n",
    "    else:\n",
    "        outputs = torch.cat((outputs, output.to('cpu').detach()), dim=1)\n",
    "        labels = torch.cat((labels, label.to('cpu').detach()))\n",
    "\n",
    "stats.update()\n",
    "\n",
    "if stats.testing.best_accuracy:\n",
    "    count = 0\n",
    "    _, predictions = outputs.sum(dim=0).max(1)\n",
    "    gen_confusion_matrix(predictions,labels, f'./{trained_folder}/')\n",
    "    net.save_to_npz(f'./{trained_folder}/network_best.npz')\n",
    "    stats.save( f'./{trained_folder}/')\n",
    "    stats.plot(path=f'./{trained_folder}/')\n",
    "    del predictions\n",
    "del labels\n",
    "del outputs\n",
    "\n",
    "torch.cuda.empty_cache()\n",
    "\n",
    "\n",
    "    \n",
    "\n",
    "    \n",
    "\n"
   ]
  },
  {
   "cell_type": "code",
   "execution_count": 6,
   "metadata": {},
   "outputs": [
    {
     "name": "stdout",
     "output_type": "stream",
     "text": [
      "Parameter containing:\n",
      "tensor([[ 0.0146, -0.1299, -0.0040, -0.0144,  0.0447, -0.1736],\n",
      "        [-0.0566, -0.1482,  0.0164, -0.1580, -0.0779,  0.0033],\n",
      "        [ 0.0087,  0.0498,  0.1319,  0.8991, -0.4315, -1.2212],\n",
      "        [ 0.0072,  0.1477, -0.1025,  0.0534,  0.0937,  0.2646],\n",
      "        [-0.1082, -0.0536,  0.0490,  0.0471, -0.0881,  0.3621],\n",
      "        [ 0.1302, -0.0500,  0.0263,  0.0438,  1.2223, -0.0480],\n",
      "        [-0.0133,  0.0089,  0.0706, -0.8100, -0.0307, -0.0329],\n",
      "        [-0.0322,  0.1080, -0.1466, -0.0669,  0.6764,  0.3475],\n",
      "        [-0.0778, -0.0849,  0.0369,  0.0665,  0.0534,  0.2998],\n",
      "        [ 0.0713,  0.0553, -0.1419, -0.0698,  0.2443, -0.0445],\n",
      "        [-0.0524, -0.0270, -0.0518, -0.4800,  0.0424, -0.4502],\n",
      "        [ 0.0619,  0.0201, -0.0649,  0.1346,  0.1501, -0.4761],\n",
      "        [-0.0438,  0.0701,  0.0223,  0.1318,  0.1579,  0.0728],\n",
      "        [ 0.0268, -0.0233, -0.0744, -0.0261,  0.3458, -0.0034],\n",
      "        [-0.0858,  0.0992,  0.0690, -0.2828,  0.1073,  0.4090],\n",
      "        [-0.1113,  0.0669, -0.0954, -0.1620, -0.0309, -0.4632],\n",
      "        [-0.0079,  0.1641, -0.4636,  0.1930,  0.3928,  0.0812],\n",
      "        [-0.0674,  0.0909, -0.0249,  0.5922, -0.2316, -0.0363],\n",
      "        [-0.0091, -0.0281,  0.1343,  0.0348, -0.0314,  0.1378],\n",
      "        [ 0.0021, -0.0261, -0.1249,  0.2111,  0.1735, -0.8326],\n",
      "        [ 0.0347,  0.0877, -0.0065, -0.0213, -0.0845,  0.0348],\n",
      "        [-0.0038, -0.0697, -0.0200,  0.3438,  0.0360, -0.1110],\n",
      "        [ 0.1867,  0.4899, -0.3492, -0.2169,  0.0310, -0.2344],\n",
      "        [ 0.0077,  0.3788, -0.2941,  0.0525,  0.1216,  0.0484],\n",
      "        [ 0.1015,  0.0683,  0.0613,  0.2457, -0.0930,  0.0935],\n",
      "        [-0.1754,  0.1604, -0.1422,  0.2497,  0.2759, -0.2613],\n",
      "        [ 0.1303, -0.0374,  0.0190, -0.1466, -1.2246,  0.3318],\n",
      "        [-0.0459, -0.0968, -0.0694,  0.0494, -0.3442, -0.7790],\n",
      "        [-0.0432,  0.1115, -0.0416, -0.2180, -0.4548, -0.4265],\n",
      "        [ 0.0586,  0.2185, -0.2039, -0.3737,  0.6846, -0.2484],\n",
      "        [ 0.0206, -0.1468, -0.0219,  1.2239, -0.0107,  0.0804],\n",
      "        [-0.0846,  0.0099, -0.0847, -0.1121, -0.0694, -0.3491],\n",
      "        [ 0.0084, -0.1477, -0.0117,  0.2768, -0.0061,  0.4381],\n",
      "        [-0.2913,  0.0160, -0.0573, -0.0343,  0.2363,  0.5415],\n",
      "        [ 0.1680,  0.4828,  0.0737, -1.2162,  0.1729,  0.3787],\n",
      "        [-0.0120,  0.7573,  0.1816, -0.1899,  0.0817,  0.6239],\n",
      "        [-0.0226, -0.0822,  0.0339,  0.0308,  0.2484, -0.0535],\n",
      "        [-0.1572,  0.1767, -0.0086,  0.2722,  0.0837, -0.2228],\n",
      "        [-0.1092,  0.0682, -0.0835, -0.2695,  0.2468,  0.1869],\n",
      "        [ 0.0056, -0.1142,  0.0843,  0.3972, -0.0032, -0.1310],\n",
      "        [ 0.3057,  0.4058, -0.4420,  0.1493, -0.1537, -1.1508],\n",
      "        [ 0.1492,  0.0349,  0.1944, -0.7409, -0.1150,  0.4013],\n",
      "        [-0.0337, -0.0284,  0.0474,  0.3110,  0.3365, -0.1191],\n",
      "        [-0.0148, -0.1167,  0.0378, -0.0979,  1.2227,  1.2245],\n",
      "        [ 0.0014,  0.0416,  0.0191, -0.0051,  0.2463,  0.1267],\n",
      "        [-0.0330,  0.0584,  0.1404, -0.3731, -0.5002, -0.6654],\n",
      "        [ 0.0929,  0.1130,  0.0827,  0.0335,  0.0972, -0.0093],\n",
      "        [ 0.0067, -0.1456,  0.0443, -1.2064,  0.1404,  0.0858],\n",
      "        [-0.0606,  0.1085,  0.0203, -0.1495,  0.4709,  0.4886],\n",
      "        [-0.5122,  0.0282, -0.2918, -0.9676, -0.3534,  0.3275],\n",
      "        [ 0.0249, -0.0207,  0.1129,  0.0182, -0.0301,  0.0526],\n",
      "        [ 0.0069, -0.1283,  0.0265, -0.1323, -1.2236, -1.2035],\n",
      "        [ 0.1732,  0.1045,  0.1165,  0.3090, -0.4798, -0.2527],\n",
      "        [-0.0929,  0.0044,  0.0281, -0.3940,  0.0861, -0.0220],\n",
      "        [-0.1104, -0.0726, -0.0650,  0.2035, -1.1046,  1.1465],\n",
      "        [-0.0020,  0.0098,  0.0932, -0.0256, -0.2143, -0.0743],\n",
      "        [ 0.0854,  0.0079,  0.1744,  0.3720, -0.6901, -1.2258],\n",
      "        [-0.1044,  0.1296,  0.0056, -0.3554,  0.0734,  0.2036],\n",
      "        [-0.0416, -0.0748, -0.0700,  0.3709,  0.0156, -0.0674],\n",
      "        [-0.0213,  0.0718, -0.0713,  0.0936,  0.2855, -0.0304],\n",
      "        [-0.0355, -0.1183,  0.0678,  1.2241,  0.6657, -0.5788],\n",
      "        [-0.0260,  0.0295, -0.1359, -0.0328,  0.8327, -0.3641],\n",
      "        [ 0.0645,  0.0788,  0.0842,  0.0126,  0.1319, -0.1595],\n",
      "        [ 0.0030,  0.0090,  0.1421, -0.0229, -0.3939, -0.2110],\n",
      "        [ 0.4356, -0.1341,  0.0674, -0.2557,  1.2079, -0.1861],\n",
      "        [ 0.3509, -0.0227,  0.1157,  0.2646, -0.3438,  1.2221],\n",
      "        [ 0.0399, -0.0614, -0.0378,  0.1591,  0.2187,  0.1291],\n",
      "        [ 0.0203, -0.0365,  0.0191, -1.2250, -0.2804,  0.5377],\n",
      "        [ 0.0785, -0.1265, -0.0122, -0.0159, -0.1250, -1.2230],\n",
      "        [-0.1091,  0.0306, -0.0061, -0.1204, -0.1520,  0.6447],\n",
      "        [ 0.0315, -0.1603, -0.1024, -0.2684,  0.0416, -0.1680],\n",
      "        [-0.1254, -0.0167, -0.0590, -0.1450,  0.5807, -0.5800],\n",
      "        [-0.0047, -0.0368,  0.1253,  0.1029,  0.0227,  0.1005],\n",
      "        [-0.0441, -0.0242,  0.0954, -0.3159, -0.0550,  0.2686],\n",
      "        [ 0.1520,  0.0063, -0.1666,  0.5580,  0.4965,  0.0792],\n",
      "        [ 0.0376,  0.1500,  0.4834, -0.2680, -0.5563,  0.2595],\n",
      "        [-0.0470,  0.0264,  0.1088,  0.0087, -0.4468,  0.0738],\n",
      "        [-0.1812,  0.0620,  0.1337, -0.1105,  0.4873, -0.1610],\n",
      "        [ 0.0713, -0.0116, -0.0427,  0.2203,  0.1622, -0.1701],\n",
      "        [-0.3773,  0.2698, -0.3124,  0.1045, -0.3221,  0.5732],\n",
      "        [-0.0469,  0.0839,  0.0475,  0.2110,  0.0658,  0.2280],\n",
      "        [-0.0712, -0.0998, -0.0581, -0.1208,  1.0523, -0.9205],\n",
      "        [-0.0463, -0.0962,  0.0451,  0.1202, -0.2465, -0.1141],\n",
      "        [-0.1159, -0.0050,  0.0535, -0.1248,  0.1248,  0.3656],\n",
      "        [-0.9127, -0.0846, -0.1170,  0.0158, -0.1749, -0.6182],\n",
      "        [-0.0827, -0.0921,  0.0692, -0.0345,  0.0195, -0.0666],\n",
      "        [ 0.1335,  0.5194, -0.3583, -0.0054,  0.8929,  0.0109],\n",
      "        [-0.0280, -0.0297,  0.0536,  0.3266,  0.3227, -0.3292],\n",
      "        [ 0.0345,  0.0272,  0.0765,  0.7397, -0.1776, -0.0853],\n",
      "        [-0.0816,  0.0936, -0.1633, -0.0866, -0.0294,  0.2901],\n",
      "        [ 0.1193,  0.1132,  0.1110, -0.5182,  0.8482, -1.1415],\n",
      "        [-0.0093,  0.0963, -0.0865,  0.0723,  0.3841, -0.0867],\n",
      "        [ 0.0270, -0.1010,  0.0668,  0.3268,  0.0373, -0.0536],\n",
      "        [ 0.0677,  0.0660, -0.0502, -0.2114,  0.3088, -0.1266],\n",
      "        [-0.2110,  0.3665,  0.1587, -0.1241,  0.2278, -0.0057],\n",
      "        [-0.0063,  0.1135, -0.0793,  0.0201,  0.8081, -0.5245],\n",
      "        [-0.2160, -0.3184, -0.7913, -0.0375,  0.6620, -0.3851],\n",
      "        [ 0.0407,  0.0864, -0.1273, -0.1910, -0.0417,  0.5098],\n",
      "        [-0.0770, -0.1302,  0.0390, -1.2263, -0.2383,  1.2254],\n",
      "        [ 0.0936,  0.0863, -0.0431,  0.0202, -0.0489, -0.0046],\n",
      "        [-0.1029,  0.0368, -0.0992,  0.0867, -0.0034,  0.1289],\n",
      "        [ 0.0043, -0.1127, -0.0978, -1.1288,  0.1738, -0.0257],\n",
      "        [ 0.0990, -0.0825,  0.0064,  0.0110,  0.0700, -0.1146],\n",
      "        [-0.1178,  0.1067, -0.0315,  0.7870,  0.1277,  0.3802],\n",
      "        [-0.0918, -0.0774,  0.0252,  0.1527, -0.0317, -0.0539],\n",
      "        [-0.0518,  0.0947,  0.0377, -0.1915,  0.6625, -0.3457],\n",
      "        [ 0.1141,  0.0876,  0.0211,  0.2857,  0.1436,  0.0286],\n",
      "        [-0.1019,  0.0013,  0.1114, -0.1017,  0.1674,  0.5896],\n",
      "        [ 0.3573, -0.1116, -0.0496, -0.4320, -0.9724, -1.2240],\n",
      "        [ 0.0012,  0.1110, -0.0911,  0.1164, -0.1537,  0.3170],\n",
      "        [ 0.0500,  0.0119,  0.1089, -0.1211,  0.1826,  0.0164],\n",
      "        [ 0.0495, -0.0675, -0.1165,  0.0127, -0.0613,  0.0413],\n",
      "        [-0.2384,  0.4213,  0.3187, -0.1393, -1.2135, -0.0555],\n",
      "        [-0.1147, -0.0068, -0.0027, -0.0392,  0.0123, -0.4294],\n",
      "        [ 0.2524, -0.1827,  0.2375, -0.5021, -0.1564, -1.2247],\n",
      "        [ 0.0380, -0.0733, -0.2819, -0.4350, -0.3780,  0.2683],\n",
      "        [ 0.0041, -0.0662,  0.0523, -0.0889, -0.1966, -0.0389],\n",
      "        [-0.0519,  0.0133,  0.1120, -0.0018,  1.2210,  0.1005],\n",
      "        [-0.0701,  0.0109,  0.0669, -0.3386, -0.9692, -0.1550],\n",
      "        [-0.0146,  0.0429,  0.0515, -0.5151,  0.1302,  0.0469]],\n",
      "       device='cuda:0', requires_grad=True)\n",
      "tensor(0.0156, device='cuda:0', grad_fn=<DivBackward0>)\n",
      "tensor(0., device='cuda:0')\n"
     ]
    }
   ],
   "source": [
    "print(net.linear1.weight)\n",
    "print(net.linear1.quant_weight_scale()) \n",
    "print(net.linear1.quant_weight_zero_point())"
   ]
  },
  {
   "cell_type": "code",
   "execution_count": 7,
   "metadata": {},
   "outputs": [
    {
     "name": "stdout",
     "output_type": "stream",
     "text": [
      "QuantLinear(\n",
      "  in_features=180, out_features=400, bias=False\n",
      "  (input_quant): ActQuantProxyFromInjector(\n",
      "    (_zero_hw_sentinel): StatelessBuffer()\n",
      "  )\n",
      "  (output_quant): ActQuantProxyFromInjector(\n",
      "    (_zero_hw_sentinel): StatelessBuffer()\n",
      "  )\n",
      "  (weight_quant): WeightQuantProxyFromInjector(\n",
      "    (_zero_hw_sentinel): StatelessBuffer()\n",
      "    (tensor_quant): RescalingIntQuant(\n",
      "      (int_quant): IntQuant(\n",
      "        (float_to_int_impl): RoundSte()\n",
      "        (tensor_clamp_impl): TensorClampSte()\n",
      "        (delay_wrapper): DelayWrapper(\n",
      "          (delay_impl): _NoDelay()\n",
      "        )\n",
      "      )\n",
      "      (scaling_impl): StatsFromParameterScaling(\n",
      "        (parameter_list_stats): _ParameterListStats(\n",
      "          (first_tracked_param): _ViewParameterWrapper(\n",
      "            (view_shape_impl): OverTensorView()\n",
      "          )\n",
      "          (extra_tracked_params_list): ModuleList(\n",
      "            (0-3): 4 x _ViewCatParameterWrapper(\n",
      "              (view_shape_impl): OverTensorView()\n",
      "            )\n",
      "          )\n",
      "          (stats): _Stats(\n",
      "            (stats_impl): AbsMax()\n",
      "          )\n",
      "        )\n",
      "        (stats_scaling_impl): _StatsScaling(\n",
      "          (affine_rescaling): Identity()\n",
      "          (restrict_clamp_scaling): _RestrictClampValue(\n",
      "            (clamp_min_ste): ScalarClampMinSte()\n",
      "            (restrict_value_impl): PowerOfTwoRestrictValue(\n",
      "              (float_to_int_impl): CeilSte()\n",
      "              (power_of_two): PowerOfTwo()\n",
      "            )\n",
      "          )\n",
      "          (restrict_scaling_pre): LogTwo()\n",
      "        )\n",
      "      )\n",
      "      (int_scaling_impl): PowerOfTwoIntScaling()\n",
      "      (zero_point_impl): ZeroZeroPoint(\n",
      "        (zero_point): StatelessBuffer()\n",
      "      )\n",
      "      (msb_clamp_bit_width_impl): BitWidthConst(\n",
      "        (bit_width): StatelessBuffer()\n",
      "      )\n",
      "    )\n",
      "  )\n",
      "  (bias_quant): BiasQuantProxyFromInjector(\n",
      "    (_zero_hw_sentinel): StatelessBuffer()\n",
      "  )\n",
      ")\n"
     ]
    }
   ],
   "source": [
    "print(net.linear2)"
   ]
  },
  {
   "cell_type": "code",
   "execution_count": 8,
   "metadata": {},
   "outputs": [
    {
     "name": "stdout",
     "output_type": "stream",
     "text": [
      "tensor(0.0156, device='cuda:0', grad_fn=<DivBackward0>)\n",
      "tensor(0., device='cuda:0')\n"
     ]
    }
   ],
   "source": [
    "net.linear2.weight\n",
    "print(net.linear2.quant_weight_scale()) \n",
    "print(net.linear2.quant_weight_zero_point())"
   ]
  },
  {
   "cell_type": "code",
   "execution_count": 9,
   "metadata": {},
   "outputs": [
    {
     "name": "stdout",
     "output_type": "stream",
     "text": [
      "tensor(0.0156, device='cuda:0', grad_fn=<DivBackward0>)\n",
      "tensor(0., device='cuda:0')\n"
     ]
    }
   ],
   "source": [
    "net.linear3.weight\n",
    "print(net.linear2.quant_weight_scale()) \n",
    "print(net.linear2.quant_weight_zero_point())"
   ]
  },
  {
   "cell_type": "code",
   "execution_count": 10,
   "metadata": {},
   "outputs": [
    {
     "data": {
      "text/plain": [
       "Parameter containing:\n",
       "tensor(1.0035, device='cuda:0', requires_grad=True)"
      ]
     },
     "execution_count": 10,
     "metadata": {},
     "output_type": "execute_result"
    }
   ],
   "source": [
    "net.leaky2.beta"
   ]
  },
  {
   "cell_type": "code",
   "execution_count": 11,
   "metadata": {},
   "outputs": [],
   "source": [
    "net.save_to_npz(f'./network_best__try.npz')"
   ]
  },
  {
   "cell_type": "code",
   "execution_count": null,
   "metadata": {},
   "outputs": [
    {
     "ename": "TypeError",
     "evalue": "'Parameter' object is not callable",
     "output_type": "error",
     "traceback": [
      "\u001b[0;31m---------------------------------------------------------------------------\u001b[0m",
      "\u001b[0;31mTypeError\u001b[0m                                 Traceback (most recent call last)",
      "Cell \u001b[0;32mIn[12], line 1\u001b[0m\n\u001b[0;32m----> 1\u001b[0m \u001b[43mnet\u001b[49m\u001b[38;5;241;43m.\u001b[39;49m\u001b[43mlinear2\u001b[49m\u001b[38;5;241;43m.\u001b[39;49m\u001b[43mweight\u001b[49m\u001b[43m(\u001b[49m\u001b[43m)\u001b[49m\n",
      "\u001b[0;31mTypeError\u001b[0m: 'Parameter' object is not callable"
     ]
    }
   ],
   "source": [
    "net.linear2.weight"
   ]
  },
  {
   "cell_type": "code",
   "execution_count": null,
   "metadata": {},
   "outputs": [
    {
     "data": {
      "text/plain": [
       "tensor([[ 0.1797, -0.0312,  0.0781,  ..., -0.0625,  0.0547,  0.0156],\n",
       "        [ 0.1016, -0.0781, -0.0391,  ..., -0.0078,  0.0312,  0.0234],\n",
       "        [ 0.0469, -0.0859, -0.0391,  ...,  0.0234, -0.0078, -0.0078],\n",
       "        ...,\n",
       "        [-0.0156,  0.0234,  0.1094,  ...,  0.1016,  0.0469, -0.2266],\n",
       "        [ 0.1875,  0.0703, -0.0234,  ...,  0.0156, -0.1016, -0.0703],\n",
       "        [ 0.2031, -0.0859, -0.0703,  ..., -0.0781, -0.1094, -0.2266]],\n",
       "       device='cuda:0', grad_fn=<MulBackward0>)"
      ]
     },
     "execution_count": 13,
     "metadata": {},
     "output_type": "execute_result"
    }
   ],
   "source": [
    "net.linear2.quant_weight().value"
   ]
  },
  {
   "cell_type": "code",
   "execution_count": null,
   "metadata": {},
   "outputs": [
    {
     "data": {
      "text/plain": [
       "tensor([[ 23,  -4,  10,  ...,  -8,   7,   2],\n",
       "        [ 13, -10,  -5,  ...,  -1,   4,   3],\n",
       "        [  6, -11,  -5,  ...,   3,  -1,  -1],\n",
       "        ...,\n",
       "        [ -2,   3,  14,  ...,  13,   6, -29],\n",
       "        [ 24,   9,  -3,  ...,   2, -13,  -9],\n",
       "        [ 26, -11,  -9,  ..., -10, -14, -29]], device='cuda:0',\n",
       "       dtype=torch.int8)"
      ]
     },
     "execution_count": 14,
     "metadata": {},
     "output_type": "execute_result"
    }
   ],
   "source": [
    "net.linear2.quant_weight().int()"
   ]
  },
  {
   "cell_type": "code",
   "execution_count": null,
   "metadata": {},
   "outputs": [],
   "source": [
    "data = np.load('/home/franzhd/snntorch_network/notebook/Trained_8w_16nin_conn_no_quant/network_best.npz',allow_pickle=True)"
   ]
  },
  {
   "cell_type": "code",
   "execution_count": null,
   "metadata": {},
   "outputs": [
    {
     "data": {
      "text/plain": [
       "array([[ 0.16240995, -0.04179355,  0.06878687, ..., -0.03414095,\n",
       "         0.05271974,  0.00918714],\n",
       "       [ 0.10307566, -0.07147186, -0.05367557, ..., -0.00154172,\n",
       "         0.03857527,  0.05272523],\n",
       "       [ 0.03487174, -0.08060344, -0.01848942, ...,  0.00430326,\n",
       "         0.00245528, -0.01670955],\n",
       "       ...,\n",
       "       [-0.02340762,  0.01425165,  0.10983979, ...,  0.09689173,\n",
       "         0.04553557, -0.2277817 ],\n",
       "       [ 0.17257555,  0.06831864, -0.00309846, ...,  0.0208085 ,\n",
       "        -0.10702667, -0.08435933],\n",
       "       [ 0.20949893, -0.08360168, -0.05373604, ..., -0.05224388,\n",
       "        -0.1117976 , -0.21755782]], dtype=float32)"
      ]
     },
     "execution_count": 16,
     "metadata": {},
     "output_type": "execute_result"
    }
   ],
   "source": [
    "data['linear2']"
   ]
  },
  {
   "cell_type": "code",
   "execution_count": null,
   "metadata": {},
   "outputs": [
    {
     "data": {
      "text/plain": [
       "array([[ 0.1640625, -0.0390625,  0.0703125, ..., -0.03125  ,  0.0546875,\n",
       "         0.0078125],\n",
       "       [ 0.1015625, -0.0703125, -0.0546875, ..., -0.       ,  0.0390625,\n",
       "         0.0546875],\n",
       "       [ 0.03125  , -0.078125 , -0.015625 , ...,  0.0078125,  0.       ,\n",
       "        -0.015625 ],\n",
       "       ...,\n",
       "       [-0.0234375,  0.015625 ,  0.109375 , ...,  0.09375  ,  0.046875 ,\n",
       "        -0.2265625],\n",
       "       [ 0.171875 ,  0.0703125, -0.       , ...,  0.0234375, -0.109375 ,\n",
       "        -0.0859375],\n",
       "       [ 0.2109375, -0.0859375, -0.0546875, ..., -0.0546875, -0.109375 ,\n",
       "        -0.21875  ]], dtype=float32)"
      ]
     },
     "execution_count": 17,
     "metadata": {},
     "output_type": "execute_result"
    }
   ],
   "source": [
    "data['linear2_quant']"
   ]
  }
 ],
 "metadata": {
  "kernelspec": {
   "display_name": "snn_torch",
   "language": "python",
   "name": "python3"
  },
  "language_info": {
   "codemirror_mode": {
    "name": "ipython",
    "version": 3
   },
   "file_extension": ".py",
   "mimetype": "text/x-python",
   "name": "python",
   "nbconvert_exporter": "python",
   "pygments_lexer": "ipython3",
   "version": "3.10.12"
  }
 },
 "nbformat": 4,
 "nbformat_minor": 2
}
