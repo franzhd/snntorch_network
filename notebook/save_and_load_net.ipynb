{
 "cells": [
  {
   "cell_type": "code",
   "execution_count": 1,
   "metadata": {},
   "outputs": [
    {
     "name": "stderr",
     "output_type": "stream",
     "text": [
      "/home/franzhd/miniconda3/envs/snn_torch/lib/python3.10/site-packages/brevitas/nn/mixin/base.py:77: UserWarning: Keyword arguments are being passed but they not being used.\n",
      "  warn('Keyword arguments are being passed but they not being used.')\n"
     ]
    }
   ],
   "source": [
    "import argparse\n",
    "import os, sys\n",
    "from pathlib import Path\n",
    "from tqdm import tqdm\n",
    "\n",
    "from torch.utils.data import  DataLoader\n",
    "\n",
    "from snntorch import surrogate\n",
    "from snntorch import functional as SF\n",
    "\n",
    "sys.path.insert(0, '../src/')\n",
    "from dataloader import *\n",
    "from utils import *\n",
    "from networks import *\n",
    "from assistant import Assistant\n",
    "from stats import LearningStats\n",
    "\n",
    "grad = surrogate.fast_sigmoid() #use slope for HPO\n",
    "\n",
    "net = ExInbitoryNetwork(10, 64,128,7, 0.7, grad, 1.0).to('cuda')"
   ]
  },
  {
   "cell_type": "code",
   "execution_count": 2,
   "metadata": {},
   "outputs": [
    {
     "name": "stderr",
     "output_type": "stream",
     "text": [
      "/home/franzhd/.local/lib/python3.10/site-packages/torch/_tensor.py:1394: UserWarning: Named tensors and all their associated APIs are an experimental feature and subject to change. Please do not use them for anything important until they are released as stable. (Triggered internally at ../c10/core/TensorImpl.h:1908.)\n",
      "  return super().rename(names)\n"
     ]
    },
    {
     "name": "stdout",
     "output_type": "stream",
     "text": [
      "torch.Size([8, 10, 40])\n"
     ]
    }
   ],
   "source": [
    "first_rand = torch.rand(8 ,10, 40)*10\n",
    "print(first_rand.shape)\n",
    "result = net(first_rand.to('cuda'))"
   ]
  },
  {
   "cell_type": "code",
   "execution_count": 3,
   "metadata": {},
   "outputs": [
    {
     "name": "stdout",
     "output_type": "stream",
     "text": [
      "Leaky 1\n",
      "Parameter containing:\n",
      "tensor(0.7000, device='cuda:0', requires_grad=True)\n",
      "Parameter containing:\n",
      "tensor(1., device='cuda:0', requires_grad=True)\n",
      "Recurrent\n",
      "Parameter containing:\n",
      "tensor(0.7000, device='cuda:0', requires_grad=True)\n",
      "Parameter containing:\n",
      "tensor(1., device='cuda:0', requires_grad=True)\n",
      "Leaky 2\n",
      "Parameter containing:\n",
      "tensor(0.7000, device='cuda:0', requires_grad=True)\n",
      "Parameter containing:\n",
      "tensor(1., device='cuda:0', requires_grad=True)\n"
     ]
    }
   ],
   "source": [
    "net.print_params()"
   ]
  },
  {
   "cell_type": "code",
   "execution_count": 4,
   "metadata": {},
   "outputs": [],
   "source": [
    "net.save_to_npz('./quant_ahpc.npz')"
   ]
  },
  {
   "cell_type": "code",
   "execution_count": 5,
   "metadata": {},
   "outputs": [
    {
     "name": "stdout",
     "output_type": "stream",
     "text": [
      "Leaky 1\n",
      "Parameter containing:\n",
      "tensor(0.9000, device='cuda:0', requires_grad=True)\n",
      "Parameter containing:\n",
      "tensor(1.4000, device='cuda:0', requires_grad=True)\n",
      "Recurrent\n",
      "Parameter containing:\n",
      "tensor(0.9000, device='cuda:0', requires_grad=True)\n",
      "Parameter containing:\n",
      "tensor(1., device='cuda:0', requires_grad=True)\n",
      "Leaky 2\n",
      "Parameter containing:\n",
      "tensor(0.9000, device='cuda:0', requires_grad=True)\n",
      "Parameter containing:\n",
      "tensor(1.4000, device='cuda:0', requires_grad=True)\n"
     ]
    }
   ],
   "source": [
    "net1 = ExInbitoryNetwork(10, 64,128,7, 0.9, grad, 1.4).to('cuda')\n",
    "net1.print_params()"
   ]
  },
  {
   "cell_type": "code",
   "execution_count": 6,
   "metadata": {},
   "outputs": [
    {
     "name": "stdout",
     "output_type": "stream",
     "text": [
      "Leaky 1\n",
      "Parameter containing:\n",
      "tensor(0.7000, requires_grad=True)\n",
      "Parameter containing:\n",
      "tensor(1., requires_grad=True)\n",
      "Recurrent\n",
      "Parameter containing:\n",
      "tensor(0.7000, requires_grad=True)\n",
      "Parameter containing:\n",
      "tensor(1., requires_grad=True)\n",
      "Leaky 2\n",
      "Parameter containing:\n",
      "tensor(0.7000, requires_grad=True)\n",
      "Parameter containing:\n",
      "tensor(1., requires_grad=True)\n"
     ]
    }
   ],
   "source": [
    "net1.from_npz('./quant_ahpc.npz')\n",
    "net1.print_params()"
   ]
  }
 ],
 "metadata": {
  "kernelspec": {
   "display_name": "snn_torch",
   "language": "python",
   "name": "python3"
  },
  "language_info": {
   "codemirror_mode": {
    "name": "ipython",
    "version": 3
   },
   "file_extension": ".py",
   "mimetype": "text/x-python",
   "name": "python",
   "nbconvert_exporter": "python",
   "pygments_lexer": "ipython3",
   "version": "3.10.12"
  }
 },
 "nbformat": 4,
 "nbformat_minor": 2
}
