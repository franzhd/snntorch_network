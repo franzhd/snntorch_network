{
 "cells": [
  {
   "cell_type": "code",
   "execution_count": 1,
   "metadata": {},
   "outputs": [],
   "source": [
    "import numpy as np\n",
    "import torch, torch.nn as nn\n",
    "import snntorch as snn\n",
    "from snntorch import surrogate\n",
    "import sys\n",
    "sys.path.append('../src')\n",
    "from dataloader import WISDM_Dataset_parser, WISDM_Dataset\n",
    "from torch.utils.data import  DataLoader"
   ]
  },
  {
   "cell_type": "code",
   "execution_count": 2,
   "metadata": {},
   "outputs": [
    {
     "name": "stdout",
     "output_type": "stream",
     "text": [
      "Using device cuda\n"
     ]
    }
   ],
   "source": [
    "batch_size = 128\n",
    "data_path='/tmp/data/fmnist'\n",
    "device = torch.device(\"cuda\") if torch.cuda.is_available() else torch.device(\"mps\") if torch.backends.mps.is_available() else torch.device(\"cpu\")\n",
    "print(f'Using device {device}')"
   ]
  },
  {
   "cell_type": "code",
   "execution_count": 3,
   "metadata": {},
   "outputs": [],
   "source": []
  },
  {
   "cell_type": "code",
   "execution_count": 4,
   "metadata": {},
   "outputs": [
    {
     "name": "stdout",
     "output_type": "stream",
     "text": [
      "(6,)\n",
      "(6,)\n",
      "num classes train dataset: 7 occurrences of each class:[3189 2987 3083 3262 3046 3071 3082]\n",
      "num classes eval dataset: 7 occurrences of each class:[1050 1017  982  998 1058 1055 1080]\n",
      "num classes test dataset: 7 occurrences of each class:[1031  948 1014 1076 1062 1038 1072]\n"
     ]
    }
   ],
   "source": [
    "\n",
    "dataset = WISDM_Dataset_parser('../data/watch_subset2_40.npz', norm=None)\n",
    "train_set = dataset.get_training_set()\n",
    "test_set = dataset.get_validation_set()\n",
    "\n",
    "train_dataset = WISDM_Dataset(train_set)\n",
    "test_dataset = WISDM_Dataset(test_set)\n",
    "\n",
    "train_loader = DataLoader(dataset=train_dataset, batch_size=int(batch_size), shuffle=True, num_workers=8)\n",
    "test_loader  = DataLoader(dataset= test_dataset, batch_size=int(batch_size), shuffle=True, num_workers=8)\n"
   ]
  },
  {
   "cell_type": "code",
   "execution_count": 5,
   "metadata": {},
   "outputs": [],
   "source": [
    "net = nn.Sequential(nn.Flatten(),\n",
    "                    nn.Linear(num_inputs, num_hidden),\n",
    "                    snn.Leaky(beta=beta, spike_grad=grad, init_hidden=True),\n",
    "                    nn.Linear(num_hidden, num_outputs),\n",
    "                    snn.Leaky(beta=beta, spike_grad=grad, init_hidden=True, output=True)\n",
    "                    ).to(device)"
   ]
  },
  {
   "cell_type": "code",
   "execution_count": 6,
   "metadata": {},
   "outputs": [],
   "source": [
    "import snntorch.functional as SF\n",
    "\n",
    "optimizer = torch.optim.Adam(net.parameters(), lr=2e-3, betas=(0.9, 0.999))\n",
    "loss_fn = SF.mse_count_loss(correct_rate=1.0, incorrect_rate=0.0)"
   ]
  },
  {
   "cell_type": "code",
   "execution_count": 7,
   "metadata": {},
   "outputs": [],
   "source": [
    "from snntorch import utils\n",
    "\n",
    "def test_accuracy(data_loader, net, num_steps, population_code=False, num_classes=False):\n",
    "  with torch.no_grad():\n",
    "    total = 0\n",
    "    acc = 0\n",
    "    net.eval()\n",
    "\n",
    "    data_loader = iter(data_loader)\n",
    "    for data, targets in data_loader:\n",
    "      data = data.to(device)\n",
    "      targets = targets.to(device)\n",
    "      utils.reset(net)\n",
    "      spk_rec, _ = net(data)\n",
    "\n",
    "      if population_code:\n",
    "        acc += SF.accuracy_rate(spk_rec.unsqueeze(0), targets, population_code=True, num_classes=num_outputs) * spk_rec.size(1)\n",
    "      else:\n",
    "        acc += SF.accuracy_rate(spk_rec.unsqueeze(0), targets) * spk_rec.size(1)\n",
    "\n",
    "      total += spk_rec.size(1)\n",
    "\n",
    "  return acc/total"
   ]
  },
  {
   "cell_type": "code",
   "execution_count": 8,
   "metadata": {},
   "outputs": [
    {
     "name": "stderr",
     "output_type": "stream",
     "text": [
      "/tmp/ipykernel_51882/2193428271.py:1: DeprecationWarning: The module snntorch.backprop will be deprecated in  a future release. Writing out your own training loop will lead to substantially faster performance.\n",
      "  from snntorch import backprop\n"
     ]
    },
    {
     "name": "stdout",
     "output_type": "stream",
     "text": [
      "Epoch: 0\n",
      "Test set accuracy: 28.905%\n",
      "\n",
      "Epoch: 1\n",
      "Test set accuracy: 31.672%\n",
      "\n",
      "Epoch: 2\n",
      "Test set accuracy: 31.690%\n",
      "\n",
      "Epoch: 3\n",
      "Test set accuracy: 33.906%\n",
      "\n",
      "Epoch: 4\n",
      "Test set accuracy: 33.959%\n",
      "\n",
      "Epoch: 5\n",
      "Test set accuracy: 35.409%\n",
      "\n",
      "Epoch: 6\n",
      "Test set accuracy: 33.682%\n",
      "\n",
      "Epoch: 7\n",
      "Test set accuracy: 34.407%\n",
      "\n",
      "Epoch: 8\n",
      "Test set accuracy: 30.233%\n",
      "\n",
      "Epoch: 9\n",
      "Test set accuracy: 29.083%\n",
      "\n"
     ]
    }
   ],
   "source": [
    "from snntorch import backprop\n",
    "\n",
    "\n",
    "\n",
    "# training loop\n",
    "for epoch in range(num_epochs):\n",
    "\n",
    "    avg_loss = backprop.BPTT(net, train_loader, num_steps=num_steps,\n",
    "                          optimizer=optimizer, criterion=loss_fn, time_var=False, device=device)\n",
    "\n",
    "    print(f\"Epoch: {epoch}\")\n",
    "    print(f\"Test set accuracy: {test_accuracy(test_loader, net, num_steps, num_classes=num_outputs)*100:.3f}%\\n\")\n"
   ]
  },
  {
   "cell_type": "code",
   "execution_count": 9,
   "metadata": {},
   "outputs": [],
   "source": [
    "\n",
    "net_pop = nn.Sequential(nn.Flatten(),\n",
    "                        nn.Linear(num_inputs, num_hidden),\n",
    "                        snn.Leaky(beta=beta, spike_grad=grad, init_hidden=True),\n",
    "                        nn.Linear(num_hidden, pop_outputs),\n",
    "                        snn.Leaky(beta=beta, spike_grad=grad, init_hidden=True, output=True)\n",
    "                        ).to(device)"
   ]
  },
  {
   "cell_type": "code",
   "execution_count": 10,
   "metadata": {},
   "outputs": [],
   "source": [
    "loss_fn = SF.mse_count_loss(correct_rate=1.0, incorrect_rate=0.0, population_code=True, num_classes=num_outputs)\n",
    "optimizer = torch.optim.Adam(net_pop.parameters(), lr=2e-3, betas=(0.9, 0.999))"
   ]
  },
  {
   "cell_type": "code",
   "execution_count": 11,
   "metadata": {},
   "outputs": [
    {
     "name": "stdout",
     "output_type": "stream",
     "text": [
      "Epoch: 0\n",
      "Test set accuracy: 63.603%\n",
      "\n",
      "Epoch: 1\n",
      "Test set accuracy: 66.827%\n",
      "\n",
      "Epoch: 2\n",
      "Test set accuracy: 68.241%\n",
      "\n",
      "Epoch: 3\n",
      "Test set accuracy: 70.465%\n",
      "\n",
      "Epoch: 4\n",
      "Test set accuracy: 70.465%\n",
      "\n",
      "Epoch: 5\n",
      "Test set accuracy: 71.191%\n",
      "\n",
      "Epoch: 6\n",
      "Test set accuracy: 72.841%\n",
      "\n",
      "Epoch: 7\n",
      "Test set accuracy: 73.293%\n",
      "\n",
      "Epoch: 8\n",
      "Test set accuracy: 73.142%\n",
      "\n",
      "Epoch: 9\n",
      "Test set accuracy: 73.549%\n",
      "\n"
     ]
    }
   ],
   "source": [
    "# training loop\n",
    "for epoch in range(num_epochs):\n",
    "\n",
    "    avg_loss = backprop.BPTT(net_pop, train_loader, num_steps=num_steps,\n",
    "                            optimizer=optimizer, criterion=loss_fn, time_var=False, device=device)\n",
    "\n",
    "    print(f\"Epoch: {epoch}\")\n",
    "    print(f\"Test set accuracy: {test_accuracy(test_loader, net_pop, num_steps, population_code=True, num_classes=num_outputs)*100:.3f}%\\n\")"
   ]
  }
 ],
 "metadata": {
  "kernelspec": {
   "display_name": "snn_torch",
   "language": "python",
   "name": "python3"
  },
  "language_info": {
   "codemirror_mode": {
    "name": "ipython",
    "version": 3
   },
   "file_extension": ".py",
   "mimetype": "text/x-python",
   "name": "python",
   "nbconvert_exporter": "python",
   "pygments_lexer": "ipython3",
   "version": "3.10.12"
  }
 },
 "nbformat": 4,
 "nbformat_minor": 2
}
