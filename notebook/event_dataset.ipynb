{
 "cells": [
  {
   "cell_type": "code",
   "execution_count": 1,
   "metadata": {},
   "outputs": [
    {
     "name": "stdout",
     "output_type": "stream",
     "text": [
      "Key: arr_0\n",
      "Value: (110807, 40, 6)\n",
      "Key: arr_1\n",
      "Value: (36936, 40, 6)\n",
      "Key: arr_2\n",
      "Value: (36936, 40, 6)\n",
      "Key: arr_3\n",
      "Value: (110807, 18)\n",
      "Key: arr_4\n",
      "Value: (36936, 18)\n",
      "Key: arr_5\n",
      "Value: (36936, 18)\n"
     ]
    }
   ],
   "source": [
    "import numpy as np\n",
    "\n",
    "# Load the numpy array from the file\n",
    "data = np.load('../data/wisdm_watch_full_40.npz', allow_pickle=True)\n",
    "# Unpack the data from the npzFile object\n",
    "for key, value in data.items():\n",
    "    print(f\"Key: {key}\")\n",
    "    print(f\"Value: {value.shape}\")\n",
    "\n",
    "# Print the dimensions of the array\n",
    "\n"
   ]
  },
  {
   "cell_type": "code",
   "execution_count": 2,
   "metadata": {},
   "outputs": [
    {
     "name": "stdout",
     "output_type": "stream",
     "text": [
      "184679\n"
     ]
    }
   ],
   "source": [
    "print (110807+36936*2)"
   ]
  },
  {
   "cell_type": "code",
   "execution_count": 3,
   "metadata": {},
   "outputs": [
    {
     "name": "stdout",
     "output_type": "stream",
     "text": [
      "(184679, 3)\n"
     ]
    }
   ],
   "source": [
    "import numpy as np\n",
    "\n",
    "# Load the numpy array from the file\n",
    "encoded_data = np.load('../data/wisdm_watch_full_40_encoded.npy', allow_pickle=True)\n",
    "\n",
    "# Print the shape of the array\n",
    "print(encoded_data.shape)\n"
   ]
  },
  {
   "cell_type": "code",
   "execution_count": 4,
   "metadata": {},
   "outputs": [
    {
     "name": "stderr",
     "output_type": "stream",
     "text": [
      "/home/franzhd/.local/lib/python3.10/site-packages/tqdm/auto.py:22: TqdmWarning: IProgress not found. Please update jupyter and ipywidgets. See https://ipywidgets.readthedocs.io/en/stable/user_install.html\n",
      "  from .autonotebook import tqdm as notebook_tqdm\n"
     ]
    },
    {
     "data": {
      "text/plain": [
       "((110807, 40, 12),\n",
       " (36936, 40, 12),\n",
       " (36936, 40, 12),\n",
       " (110807,),\n",
       " (36936,),\n",
       " (36936,))"
      ]
     },
     "execution_count": 4,
     "metadata": {},
     "output_type": "execute_result"
    }
   ],
   "source": [
    "import sys\n",
    "sys.path.append('../src')\n",
    "\n",
    "from data_loading import load_data\n",
    "\n",
    "input_params = {\n",
    "        \"file_path\": \"../data/wisdm_watch_full_40_encoded.npy\",\n",
    "        \"n_channels\": 12,\n",
    "        \"n_classes\": 7,\n",
    "        \"dt\": 5e-2,\n",
    "        \"sample_duration\": 2,\n",
    "        \"batch_size\": 1024,\n",
    "}\n",
    "\n",
    "x_train, x_val, x_test, y_train, y_val, y_test = load_data(**input_params)\n",
    "x_train.shape, x_val.shape, x_test.shape, y_train.shape, y_val.shape, y_test.shape\n"
   ]
  },
  {
   "cell_type": "code",
   "execution_count": 5,
   "metadata": {},
   "outputs": [],
   "source": [
    "# import numpy as np\n",
    "\n",
    "# # Pack the variables into a dictionary\n",
    "# data = {\n",
    "#     'x_train': x_train,\n",
    "#     'x_val': x_val,\n",
    "#     'x_test': x_test,\n",
    "#     'y_train': y_train,\n",
    "#     'y_val': y_val,\n",
    "#     'y_test': y_test\n",
    "# }\n",
    "\n",
    "# # Save the data\n",
    "# np.savez('../data/watch_full_encoded_40.npz', **data)\n"
   ]
  },
  {
   "cell_type": "code",
   "execution_count": 6,
   "metadata": {},
   "outputs": [
    {
     "name": "stdout",
     "output_type": "stream",
     "text": [
      "The biggest number in y_train is: 17\n"
     ]
    }
   ],
   "source": [
    "import numpy as np\n",
    "\n",
    "max_value = np.max(y_train)\n",
    "print(\"The biggest number in y_train is:\", max_value)\n"
   ]
  },
  {
   "cell_type": "code",
   "execution_count": 7,
   "metadata": {},
   "outputs": [
    {
     "name": "stdout",
     "output_type": "stream",
     "text": [
      "torch.Size([100, 128, 1, 28, 28])\n",
      "torch.bool\n",
      "torch.Size([100, 28, 28])\n",
      "tensor([[[False,  True, False,  ..., False, False, False],\n",
      "         [False, False,  True,  ..., False, False, False],\n",
      "         [False, False, False,  ..., False, False, False],\n",
      "         ...,\n",
      "         [False, False, False,  ..., False, False, False],\n",
      "         [False, False, False,  ..., False, False, False],\n",
      "         [False, False, False,  ..., False,  True, False]],\n",
      "\n",
      "        [[False, False, False,  ..., False, False, False],\n",
      "         [False, False, False,  ..., False, False, False],\n",
      "         [False, False, False,  ..., False, False, False],\n",
      "         ...,\n",
      "         [False, False,  True,  ..., False, False, False],\n",
      "         [False, False,  True,  ..., False, False, False],\n",
      "         [False, False, False,  ..., False, False, False]],\n",
      "\n",
      "        [[False, False, False,  ..., False, False, False],\n",
      "         [False, False,  True,  ..., False, False, False],\n",
      "         [False, False, False,  ..., False, False, False],\n",
      "         ...,\n",
      "         [False, False,  True,  ..., False, False, False],\n",
      "         [ True, False, False,  ...,  True, False, False],\n",
      "         [False, False, False,  ..., False, False, False]],\n",
      "\n",
      "        ...,\n",
      "\n",
      "        [[False, False,  True,  ...,  True, False, False],\n",
      "         [False, False, False,  ..., False, False, False],\n",
      "         [False, False, False,  ...,  True, False, False],\n",
      "         ...,\n",
      "         [False, False, False,  ..., False, False, False],\n",
      "         [ True, False,  True,  ..., False, False, False],\n",
      "         [False, False, False,  ..., False, False, False]],\n",
      "\n",
      "        [[False, False, False,  ..., False, False, False],\n",
      "         [False, False, False,  ..., False, False, False],\n",
      "         [False, False, False,  ..., False, False,  True],\n",
      "         ...,\n",
      "         [False,  True, False,  ..., False, False, False],\n",
      "         [False, False,  True,  ..., False, False, False],\n",
      "         [ True, False, False,  ..., False, False, False]],\n",
      "\n",
      "        [[False, False, False,  ..., False, False, False],\n",
      "         [False, False, False,  ..., False,  True, False],\n",
      "         [False, False, False,  ..., False, False,  True],\n",
      "         ...,\n",
      "         [False, False, False,  ..., False, False, False],\n",
      "         [False, False, False,  ..., False, False, False],\n",
      "         [False, False, False,  ..., False, False, False]]])\n"
     ]
    },
    {
     "data": {
      "image/png": "[encoded data removed]",
      "text/plain": [
       "<Figure size 640x480 with 1 Axes>"
      ]
     },
     "metadata": {},
     "output_type": "display_data"
    }
   ],
   "source": [
    "\n",
    "import snntorch.spikeplot as splt\n",
    "import matplotlib.pyplot as plt\n",
    "import torch\n",
    "\n",
    "spike_data = torch.Tensor(100, 128, 1, 28, 28).uniform_() > 0.9\n",
    "print(spike_data.size())\n",
    "print(spike_data.dtype)\n",
    "#  Index into a single sample from a minibatch\n",
    "spike_data_sample = spike_data[:, 0, 0]\n",
    "print(spike_data_sample.size())\n",
    "print(spike_data_sample)\n",
    "#  Plot\n",
    "fig, ax = plt.subplots()\n",
    "anim = splt.animator(spike_data_sample, fig, ax)\n",
    "#  Save as a gif60\n",
    "anim.save(\"spike_img.gif\")"
   ]
  },
  {
   "cell_type": "code",
   "execution_count": 8,
   "metadata": {},
   "outputs": [
    {
     "name": "stdout",
     "output_type": "stream",
     "text": [
      "[ 4105 71391 19263  2746 59063]\n",
      "(5, 40, 12) (5,)\n",
      "(40, 1, 12) 17\n",
      "int64\n",
      "bool\n",
      "(40, 1, 12) 3\n",
      "int64\n",
      "bool\n",
      "(40, 1, 12) 13\n",
      "int64\n",
      "bool\n",
      "(40, 1, 12) 7\n",
      "int64\n",
      "bool\n",
      "(40, 1, 12) 14\n",
      "int64\n",
      "bool\n"
     ]
    },
    {
     "data": {
      "text/html": [
       "<table><tr><td> <img src=\"spike_img0.gif\" alt=\"Drawing\" style=\"height: 250px;\"/> </td> <td> <img src=\"spike_img1.gif\" alt=\"Drawing\" style=\"height: 250px;\"/> </td> <td> <img src=\"spike_img2.gif\" alt=\"Drawing\" style=\"height: 250px;\"/> </td> <td> <img src=\"spike_img3.gif\" alt=\"Drawing\" style=\"height: 250px;\"/> </td> <td> <img src=\"spike_img4.gif\" alt=\"Drawing\" style=\"height: 250px;\"/> </td></tr></table>"
      ],
      "text/plain": [
       "<IPython.core.display.HTML object>"
      ]
     },
     "execution_count": 8,
     "metadata": {},
     "output_type": "execute_result"
    },
    {
     "data": {
      "image/png": "[encoded data removed]",
      "text/plain": [
       "<Figure size 640x480 with 1 Axes>"
      ]
     },
     "metadata": {},
     "output_type": "display_data"
    },
    {
     "data": {
      "image/png": "[encoded data removed]",
      "text/plain": [
       "<Figure size 640x480 with 1 Axes>"
      ]
     },
     "metadata": {},
     "output_type": "display_data"
    },
    {
     "data": {
      "image/png": "[encoded data removed]",
      "text/plain": [
       "<Figure size 640x480 with 1 Axes>"
      ]
     },
     "metadata": {},
     "output_type": "display_data"
    },
    {
     "data": {
      "image/png": "[encoded data removed]",
      "text/plain": [
       "<Figure size 640x480 with 1 Axes>"
      ]
     },
     "metadata": {},
     "output_type": "display_data"
    },
    {
     "data": {
      "image/png": "[encoded data removed]",
      "text/plain": [
       "<Figure size 640x480 with 1 Axes>"
      ]
     },
     "metadata": {},
     "output_type": "display_data"
    }
   ],
   "source": [
    "import numpy as np\n",
    "import IPython.display as display\n",
    "size =5\n",
    "index = np.random.randint(0, x_train.shape[0],size=size)\n",
    "print(index)\n",
    "x_train_samples = x_train[index]\n",
    "y_train_sample = y_train[index]\n",
    "print(x_train_samples.shape, y_train_sample.shape)\n",
    "for i in range(size):\n",
    "    print(np.expand_dims(x_train_samples[i], axis=1).shape, y_train_sample[i])\n",
    "    print(x_train_samples[i].dtype)\n",
    "    x_train_sample = x_train_samples[i].astype(bool)\n",
    "    print(x_train_sample[i].dtype)\n",
    "    x_train_sample = torch.Tensor(np.expand_dims(x_train_sample, axis=1))\n",
    "\n",
    "    fig, ax = plt.subplots()\n",
    "    ax.set_title(f\"Sample class {y_train_sample[i]}\")\n",
    "    anim = splt.animator(x_train_sample, fig, ax)\n",
    "    anim.save(f\"spike_img{i}.gif\")\n",
    "\n",
    "    # Assuming the generated GIF file is named \"animation.gif\"\n",
    "gif_td = lambda gif: f'<td> <img src=\"{gif}\" alt=\"Drawing\" style=\"height: 250px;\"/> </td>'\n",
    "header = '<table><tr>'\n",
    "images = ' '.join([gif_td(f'spike_img{i}.gif') for i in range(size)])\n",
    "footer = '</tr></table>'\n",
    "display.HTML(header + images + footer)\n"
   ]
  },
  {
   "cell_type": "code",
   "execution_count": 9,
   "metadata": {},
   "outputs": [
    {
     "name": "stdout",
     "output_type": "stream",
     "text": [
      "(1, 5)\n",
      "[[1 2 3 4 5]]\n"
     ]
    }
   ],
   "source": [
    "# Create a 1D array\n",
    "arr = np.array([1, 2, 3, 4, 5])\n",
    "\n",
    "# Unsqueeze the array to make it a 2D array\n",
    "unsqueezed_arr = np.expand_dims(arr, axis=0)\n",
    "\n",
    "print(unsqueezed_arr.shape)\n",
    "print(unsqueezed_arr)"
   ]
  }
 ],
 "metadata": {
  "kernelspec": {
   "display_name": "snn_torch",
   "language": "python",
   "name": "python3"
  },
  "language_info": {
   "codemirror_mode": {
    "name": "ipython",
    "version": 3
   },
   "file_extension": ".py",
   "mimetype": "text/x-python",
   "name": "python",
   "nbconvert_exporter": "python",
   "pygments_lexer": "ipython3",
   "version": "3.10.12"
  }
 },
 "nbformat": 4,
 "nbformat_minor": 2
}
