{
 "cells": [
  {
   "cell_type": "code",
   "execution_count": 1,
   "metadata": {},
   "outputs": [
    {
     "name": "stdout",
     "output_type": "stream",
     "text": [
      "['walking', 'jogging', 'stairs', 'sitting', 'standing', 'typing', 'brushing_teeth', 'eating_soup', 'eating_chips', 'eating_pasta', 'drinking', 'eating_sandwich', 'kicking_soccer', 'catch_tennis', 'dribbling_basketball', 'writing', 'clapping', 'folding_clothes']\n"
     ]
    }
   ],
   "source": [
    "import json\n",
    "\n",
    "def json_to_vector(json_file):\n",
    "    with open(json_file, 'r') as file:\n",
    "        data = json.load(file)\n",
    "    vector = []\n",
    "    for value in data:\n",
    "        vector.append(value)\n",
    "    return vector\n",
    "\n",
    "# Example usage\n",
    "json_file = '../data/wisdm_watch_full_40_classes.json'\n",
    "vector = json_to_vector(json_file)\n",
    "print(vector)"
   ]
  },
  {
   "cell_type": "code",
   "execution_count": null,
   "metadata": {},
   "outputs": [
    {
     "name": "stdout",
     "output_type": "stream",
     "text": [
      "['walking', 'stairs', 'brushing_teeth', 'eating_chips', 'eating_pasta', 'dribbling_basketball', 'folding_clothes']\n"
     ]
    }
   ],
   "source": [
    "def extract_strings_at_indices(indices, strings, print_output=False):\n",
    "    extracted_strings = [strings[idx] for idx in indices]\n",
    "    if print_output:\n",
    "        print(extracted_strings)\n",
    "    return extracted_strings\n",
    "\n",
    "# Example usage\n",
    "indices = [0, 2, 6, 8, 9, 14, 17]\n",
    "strings = vector\n",
    "extracted_strings = extract_strings_at_indices(indices, strings, print_output=True)\n"
   ]
  },
  {
   "cell_type": "code",
   "execution_count": 4,
   "metadata": {},
   "outputs": [
    {
     "name": "stdout",
     "output_type": "stream",
     "text": [
      "['walking', 'jogging', 'stairs', 'typing', 'brushing_teeth', 'eating_soup', 'kicking_soccer']\n"
     ]
    }
   ],
   "source": [
    "def extract_strings_at_indices(indices, strings, print_output=False):\n",
    "    extracted_strings = [strings[idx] for idx in indices]\n",
    "    if print_output:\n",
    "        print(extracted_strings)\n",
    "    return extracted_strings\n",
    "\n",
    "# Example usage\n",
    "indices = [0, 1, 2, 5, 6, 7, 12]\n",
    "strings = vector\n",
    "extracted_strings = extract_strings_at_indices(indices, strings, print_output=True)\n"
   ]
  },
  {
   "cell_type": "code",
   "execution_count": 5,
   "metadata": {},
   "outputs": [
    {
     "name": "stdout",
     "output_type": "stream",
     "text": [
      "['walking', 'jogging', 'standing', 'eating_chips', 'eating_pasta', 'drinking', 'dribbling_basketball']\n"
     ]
    }
   ],
   "source": [
    "def extract_strings_at_indices(indices, strings, print_output=False):\n",
    "    extracted_strings = [strings[idx] for idx in indices]\n",
    "    if print_output:\n",
    "        print(extracted_strings)\n",
    "    return extracted_strings\n",
    "\n",
    "# Example usage\n",
    "indices = [0, 1, 4, 8, 9, 10, 14]\n",
    "strings = vector\n",
    "extracted_strings = extract_strings_at_indices(indices, strings, print_output=True)\n"
   ]
  }
 ],
 "metadata": {
  "kernelspec": {
   "display_name": "notebook_snntorch",
   "language": "python",
   "name": "python3"
  },
  "language_info": {
   "codemirror_mode": {
    "name": "ipython",
    "version": 3
   },
   "file_extension": ".py",
   "mimetype": "text/x-python",
   "name": "python",
   "nbconvert_exporter": "python",
   "pygments_lexer": "ipython3",
   "version": "3.10.15"
  }
 },
 "nbformat": 4,
 "nbformat_minor": 2
}
