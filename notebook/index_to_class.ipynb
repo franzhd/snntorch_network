{
 "cells": [
  {
   "cell_type": "code",
   "execution_count": null,
   "metadata": {},
   "outputs": [],
   "source": [
    "from snntorch_network.utils import json_to_vector, extract_strings_at_indices"
   ]
  },
  {
   "cell_type": "code",
   "execution_count": null,
   "metadata": {},
   "outputs": [
    {
     "name": "stdout",
     "output_type": "stream",
     "text": [
      "['walking', 'jogging', 'stairs', 'sitting', 'standing', 'typing', 'brushing_teeth', 'eating_soup', 'eating_chips', 'eating_pasta', 'drinking', 'eating_sandwich', 'kicking_soccer', 'catch_tennis', 'dribbling_basketball', 'writing', 'clapping', 'folding_clothes']\n"
     ]
    }
   ],
   "source": [
    "\n",
    "# Example usage\n",
    "json_file = '../data/wisdm_watch_full_40_classes.json'\n",
    "vector = json_to_vector(json_file)\n",
    "print(vector)"
   ]
  },
  {
   "cell_type": "code",
   "execution_count": null,
   "metadata": {},
   "outputs": [
    {
     "name": "stdout",
     "output_type": "stream",
     "text": [
      "['walking', 'stairs', 'brushing_teeth', 'eating_chips', 'eating_pasta', 'dribbling_basketball', 'folding_clothes']\n"
     ]
    }
   ],
   "source": [
    "\n",
    "# Example usage\n",
    "indices = [0, 2, 6, 8, 9, 14, 17]\n",
    "strings = vector\n",
    "extracted_strings = extract_strings_at_indices(indices, strings, print_output=True)\n"
   ]
  },
  {
   "cell_type": "code",
   "execution_count": null,
   "metadata": {},
   "outputs": [
    {
     "name": "stdout",
     "output_type": "stream",
     "text": [
      "['walking', 'jogging', 'stairs', 'typing', 'brushing_teeth', 'eating_soup', 'kicking_soccer']\n"
     ]
    }
   ],
   "source": [
    "\n",
    "# Example usage\n",
    "indices = [0, 1, 4, 8, 9, 10, 14]\n",
    "strings = vector\n",
    "extracted_strings = extract_strings_at_indices(indices, strings, print_output=True)\n"
   ]
  },
  {
   "cell_type": "code",
   "execution_count": null,
   "metadata": {},
   "outputs": [
    {
     "name": "stdout",
     "output_type": "stream",
     "text": [
      "['walking', 'jogging', 'standing', 'eating_chips', 'eating_pasta', 'drinking', 'dribbling_basketball']\n"
     ]
    }
   ],
   "source": [
    "# Example usage\n",
    "indices = [0, 1, 2, 5, 6, 7, 12]\n",
    "strings = vector\n",
    "extracted_strings = extract_strings_at_indices(indices, strings, print_output=True)"
   ]
  }
 ],
 "metadata": {
  "kernelspec": {
   "display_name": "notebook_snntorch",
   "language": "python",
   "name": "python3"
  },
  "language_info": {
   "codemirror_mode": {
    "name": "ipython",
    "version": 3
   },
   "file_extension": ".py",
   "mimetype": "text/x-python",
   "name": "python",
   "nbconvert_exporter": "python",
   "pygments_lexer": "ipython3",
   "version": "3.10.15"
  }
 },
 "nbformat": 4,
 "nbformat_minor": 2
}
