{
 "cells": [
  {
   "cell_type": "code",
   "execution_count": 1,
   "metadata": {},
   "outputs": [
    {
     "name": "stderr",
     "output_type": "stream",
     "text": [
      "2024-06-24 11:50:02.843353: I tensorflow/core/platform/cpu_feature_guard.cc:210] This TensorFlow binary is optimized to use available CPU instructions in performance-critical operations.\n",
      "To enable the following instructions: AVX2 FMA, in other operations, rebuild TensorFlow with the appropriate compiler flags.\n",
      "2024-06-24 11:50:03.488297: W tensorflow/compiler/tf2tensorrt/utils/py_utils.cc:38] TF-TRT Warning: Could not find TensorRT\n"
     ]
    }
   ],
   "source": [
    "import sys\n",
    "sys.path.append('../src')\n",
    "from utils import *\n",
    "from dataloader import *"
   ]
  },
  {
   "cell_type": "code",
   "execution_count": 2,
   "metadata": {},
   "outputs": [
    {
     "name": "stdout",
     "output_type": "stream",
     "text": [
      "Saving data to ../data/data_watch_subset_2_40\n"
     ]
    }
   ],
   "source": [
    "WisdmDf2Np('../data/watch.df','../data',subset=2)"
   ]
  },
  {
   "cell_type": "code",
   "execution_count": 3,
   "metadata": {},
   "outputs": [],
   "source": [
    "x_t, x_v, x_tt, y_t, y_v, y_tt = load_wisdm2_data('../data/data_watch_subset_2_40.npz')"
   ]
  },
  {
   "cell_type": "code",
   "execution_count": 5,
   "metadata": {},
   "outputs": [],
   "source": [
    "x_t, x_v, x_tt, y_t, y_v, y_tt = load_wisdm2_data('../data/wisdm_watch_full_40.npz')"
   ]
  },
  {
   "cell_type": "code",
   "execution_count": 4,
   "metadata": {},
   "outputs": [
    {
     "name": "stdout",
     "output_type": "stream",
     "text": [
      "(21720, 40, 6)\n",
      "(7240, 40, 6)\n",
      "(7241, 40, 6)\n",
      "(21720, 7)\n",
      "(7240, 7)\n",
      "(7241, 7)\n",
      "The biggest number in y_train is: 1.0\n"
     ]
    }
   ],
   "source": [
    "print(x_t.shape)\n",
    "print(x_v.shape)\n",
    "print(x_tt.shape)\n",
    "\n",
    "print(y_t.shape)\n",
    "print(y_v.shape)\n",
    "print(y_tt.shape)\n",
    "import numpy as np\n",
    "\n",
    "# y_label = np.argmax(y_v, axis=-1)\n",
    "max_value = np.max(y_tt)\n",
    "print(\"The biggest number in y_train is:\", max_value)"
   ]
  },
  {
   "cell_type": "code",
   "execution_count": null,
   "metadata": {},
   "outputs": [],
   "source": []
  }
 ],
 "metadata": {
  "kernelspec": {
   "display_name": "snn_torch",
   "language": "python",
   "name": "python3"
  },
  "language_info": {
   "codemirror_mode": {
    "name": "ipython",
    "version": 3
   },
   "file_extension": ".py",
   "mimetype": "text/x-python",
   "name": "python",
   "nbconvert_exporter": "python",
   "pygments_lexer": "ipython3",
   "version": "3.10.12"
  }
 },
 "nbformat": 4,
 "nbformat_minor": 2
}
